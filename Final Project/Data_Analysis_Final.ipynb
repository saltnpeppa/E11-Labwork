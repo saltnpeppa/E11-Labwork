{
 "cells": [
  {
   "cell_type": "code",
   "execution_count": 259,
   "id": "85e8dded",
   "metadata": {},
   "outputs": [],
   "source": [
    "import numpy as np\n",
    "import pandas as pd\n",
    "import math"
   ]
  },
  {
   "cell_type": "code",
   "execution_count": 260,
   "id": "edc96561",
   "metadata": {},
   "outputs": [],
   "source": [
    "# Read in all the files of data\n",
    "file_base = pd.read_csv(\"Europium_152_Data_2021-11-19_D3S.csv\")\n",
    "file_background = pd.read_csv(\"Background_Data_2021-11-19_D3S.csv\")\n",
    "file1 = pd.read_csv(\"Unknown_1_Data_2021-11-19_D3S.csv\")\n",
    "file2 = pd.read_csv(\"Unknown_2_Data_2021-11-19_D3S.csv\")\n",
    "file3 = pd.read_csv(\"Unknown_3_Data_2021-11-19_D3S.csv\")\n"
   ]
  },
  {
   "cell_type": "code",
   "execution_count": 264,
   "id": "3abb6924",
   "metadata": {},
   "outputs": [],
   "source": [
    "def propagate_uncertainty(partial_1, partial_2, partial_3, sigma_1, sigma_2, sigma_3):\n",
    "    # Takes in 6 arguments - partials with respect to 3 different variables, and each variables uncertainty\n",
    "    # Returns - The new propagated uncertainty for the function\n",
    "    return math.sqrt(partial_1**2 * sigma_1**2 + partial_2**2 * sigma_2**2 + partial_3**2 * sigma_3**2)\n",
    "\n",
    "def get_activity(efficiency, efficiency_uncertainty, cps, background):\n",
    "    # Takes in 3 arguments - detector efficiency, the uncertainty on the efficiency, and the counts-per-second\n",
    "    # Returns - A tuple with the first value containing the calculated activity, and the second values containing its uncertainty\n",
    "    return ((cps / efficiency) - background, propagate_uncertainty(1/efficiency, cps, -1, math.sqrt(cps), efficiency_uncertainty, math.sqrt(background)))\n",
    "\n",
    "\n",
    "def find_source(knowns_dict, unknowns_dict):\n",
    "    # Takes in 2 arguments - a dictionary with keys/values for known activities/sources, a dictionary with keys/values for unknown activities/sources\n",
    "    # Returns - An array of tuples; Each tuple contains a label for an unknown source, and its matching known source\n",
    "                                                                                           # Ex. (\"Sample 1, U-238\")\n",
    "    \n",
    "    knowns = list(knowns_dict.keys())\n",
    "    unknowns = list(unknowns_dict.keys())\n",
    "\n",
    "    all_pairs = []\n",
    "    result = []\n",
    "    \n",
    "    all_pairs.append(list(zip(unknowns, knowns)))\n",
    "        \n",
    "    for i in range(1, len(knowns)):\n",
    "        all_pairs.append(list(zip(unknowns, knowns[i:] + knowns[:i])))\n",
    "        \n",
    "    error = lambda x: sum([n[0]/n[1] for n in x])\n",
    "    \n",
    "    least_error = min(all_pairs, key=error)\n",
    "    \n",
    "    for element in least_error:\n",
    "        result.append((unknowns_dict[element[0]], knowns_dict[element[1]]))\n",
    "    \n",
    "    return result\n",
    "    \n"
   ]
  },
  {
   "cell_type": "code",
   "execution_count": 265,
   "id": "d23c9848",
   "metadata": {},
   "outputs": [],
   "source": [
    "eu = 213345.9\n",
    "co = 126914.07 \n",
    "am = 363329.38\n",
    "cs = 310132.56\n",
    "\n",
    "npArrBase = file_base.to_numpy()\n",
    "EuCps = np.nansum(npArrBase)/(npArrBase.shape[0] * 5)\n",
    "\n",
    "efficiency = EuCps/eu\n",
    "e_uncertainty = propagate_uncertainty(1/eu, -EuCps/eu**2, 0, math.sqrt(EuCps), math.sqrt(eu), 0)\n",
    "\n",
    "\n",
    "npArr1 = file1.to_numpy()\n",
    "totalCps1 = npArr1.sum() / (npArr1.shape[0] * 5)\n",
    "\n",
    "npArr2 = file2.to_numpy()\n",
    "totalCps2 = npArr2.sum()/(npArr2.shape[0] * 5)\n",
    "\n",
    "npArr3 = file3.to_numpy()\n",
    "totalCps3 = npArr3.sum()/(npArr3.shape[0] * 5)\n",
    "\n",
    "npArrBackground = file_background.to_numpy()\n",
    "totalCpsBackground = npArrBackground.sum()/(npArr3.shape[0] * 5)"
   ]
  },
  {
   "cell_type": "code",
   "execution_count": 273,
   "id": "a01defad",
   "metadata": {},
   "outputs": [
    {
     "name": "stdout",
     "output_type": "stream",
     "text": [
      "Calculated Activity for Unknown 1: 141310.274 Bq +/- 6177.429 Bq\n",
      "Calculated Activity for Unknown 2: 231436.397 Bq +/- 7905.463 Bq\n",
      "Calculated Activity for Unknown 3: 157966.979 Bq +/- 6531.328 Bq\n",
      "\n",
      "\n",
      "Based on our data and calculations for efficiency, these are the matching samples: \n",
      "[('Unknown1', 'Cobalt-60'), ('Unknown2', 'Americium-241'), ('Unknown3', 'Caesium-137')]\n"
     ]
    }
   ],
   "source": [
    "known_values = {126914.07: \"Cobalt-60\", 363329.38: \"Americium-241\", 310132.56: \"Caesium-137\"}\n",
    "\n",
    "unknown_values = {get_activity(efficiency, e_uncertainty, totalCps1, totalCpsBackground)[0]: \"Unknown1\", \n",
    "                  get_activity(efficiency, e_uncertainty, totalCps2, totalCpsBackground)[0]: \"Unknown2\",\n",
    "                  get_activity(efficiency, e_uncertainty, totalCps3, totalCpsBackground)[0]: \"Unknown3\"}\n",
    "\n",
    "\n",
    "final_result = find_source(known_values, unknown_values)\n",
    "\n",
    "print(f\"Calculated Activity for Unknown 1: {round(get_activity(efficiency, e_uncertainty, totalCps1, totalCpsBackground)[0], 3)} Bq +/- {round(get_activity(efficiency, e_uncertainty, totalCps1, totalCpsBackground)[1], 3)} Bq\")\n",
    "print(f\"Calculated Activity for Unknown 2: {round(get_activity(efficiency, e_uncertainty, totalCps2, totalCpsBackground)[0], 3)} Bq +/- {round(get_activity(efficiency, e_uncertainty, totalCps2, totalCpsBackground)[1], 3)} Bq\")\n",
    "print(f\"Calculated Activity for Unknown 3: {round(get_activity(efficiency, e_uncertainty, totalCps3, totalCpsBackground)[0], 3)} Bq +/- {round(get_activity(efficiency, e_uncertainty, totalCps3, totalCpsBackground)[1], 3)} Bq\")\n",
    "print(\"\\n\")\n",
    "print(f\"Based on our data and calculations for efficiency, these are the matching samples: \\n{final_result}\")\n"
   ]
  },
  {
   "cell_type": "code",
   "execution_count": null,
   "id": "79087b1a",
   "metadata": {},
   "outputs": [],
   "source": []
  }
 ],
 "metadata": {
  "kernelspec": {
   "display_name": "Python 3",
   "language": "python",
   "name": "python3"
  },
  "language_info": {
   "codemirror_mode": {
    "name": "ipython",
    "version": 3
   },
   "file_extension": ".py",
   "mimetype": "text/x-python",
   "name": "python",
   "nbconvert_exporter": "python",
   "pygments_lexer": "ipython3",
   "version": "3.8.8"
  }
 },
 "nbformat": 4,
 "nbformat_minor": 5
}
