{
 "cells": [
  {
   "cell_type": "code",
   "execution_count": 2,
   "id": "572e4e43",
   "metadata": {},
   "outputs": [],
   "source": [
    "import numpy as np\n",
    "import pandas as pd\n",
    "import time\n",
    "import matplotlib\n",
    "%matplotlib inline\n",
    "import matplotlib.pyplot as plt\n",
    "import math\n",
    "from scipy.stats import binom\n",
    "from scipy.stats import poisson\n",
    "from scipy.stats import norm\n",
    "from IPython import display\n",
    "\n",
    "from scipy.stats import norm\n",
    "import statistics"
   ]
  },
  {
   "cell_type": "code",
   "execution_count": 2,
   "id": "7a750382",
   "metadata": {},
   "outputs": [
    {
     "ename": "FileNotFoundError",
     "evalue": "[Errno 2] No such file or directory: '/Users/r03si/Desktop/E11-Labwork/data/Thorium_2021-09-03_D3S.csv'",
     "output_type": "error",
     "traceback": [
      "\u001b[0;31m---------------------------------------------------------------------------\u001b[0m",
      "\u001b[0;31mFileNotFoundError\u001b[0m                         Traceback (most recent call last)",
      "\u001b[0;32m<ipython-input-2-38fbe3c112e0>\u001b[0m in \u001b[0;36m<module>\u001b[0;34m\u001b[0m\n\u001b[0;32m----> 1\u001b[0;31m \u001b[0mfile_thorium\u001b[0m \u001b[0;34m=\u001b[0m \u001b[0mopen\u001b[0m\u001b[0;34m(\u001b[0m\u001b[0;34m\"/Users/r03si/Desktop/E11-Labwork/data/Thorium_2021-09-03_D3S.csv\"\u001b[0m\u001b[0;34m)\u001b[0m\u001b[0;34m\u001b[0m\u001b[0;34m\u001b[0m\u001b[0m\n\u001b[0m\u001b[1;32m      2\u001b[0m \u001b[0mfile_unknown\u001b[0m \u001b[0;34m=\u001b[0m \u001b[0mopen\u001b[0m\u001b[0;34m(\u001b[0m\u001b[0;34m\"/Users/r03si/Desktop/E11-Labwork/data/Unknown_2021-09-03_D3S.csv\"\u001b[0m\u001b[0;34m)\u001b[0m\u001b[0;34m\u001b[0m\u001b[0;34m\u001b[0m\u001b[0m\n\u001b[1;32m      3\u001b[0m \u001b[0mdata_thorium\u001b[0m \u001b[0;34m=\u001b[0m \u001b[0mnp\u001b[0m\u001b[0;34m.\u001b[0m\u001b[0mloadtxt\u001b[0m\u001b[0;34m(\u001b[0m\u001b[0mfile_thorium\u001b[0m\u001b[0;34m,\u001b[0m \u001b[0mdelimiter\u001b[0m\u001b[0;34m=\u001b[0m\u001b[0;34m\",\"\u001b[0m\u001b[0;34m)\u001b[0m\u001b[0;34m[\u001b[0m\u001b[0;34m:\u001b[0m\u001b[0;36m68\u001b[0m\u001b[0;34m,\u001b[0m\u001b[0;34m:\u001b[0m\u001b[0;34m]\u001b[0m\u001b[0;34m\u001b[0m\u001b[0;34m\u001b[0m\u001b[0m\n\u001b[1;32m      4\u001b[0m \u001b[0mdata_unknown\u001b[0m \u001b[0;34m=\u001b[0m \u001b[0mnp\u001b[0m\u001b[0;34m.\u001b[0m\u001b[0mloadtxt\u001b[0m\u001b[0;34m(\u001b[0m\u001b[0mfile_unknown\u001b[0m\u001b[0;34m,\u001b[0m \u001b[0mdelimiter\u001b[0m\u001b[0;34m=\u001b[0m\u001b[0;34m\",\"\u001b[0m\u001b[0;34m)\u001b[0m\u001b[0;34m[\u001b[0m\u001b[0;34m:\u001b[0m\u001b[0;36m68\u001b[0m\u001b[0;34m,\u001b[0m\u001b[0;34m:\u001b[0m\u001b[0;34m]\u001b[0m \u001b[0;31m#There was some issue with capturing data after the 68th row.\u001b[0m\u001b[0;34m\u001b[0m\u001b[0;34m\u001b[0m\u001b[0m\n\u001b[1;32m      5\u001b[0m \u001b[0mreduced_thorium\u001b[0m \u001b[0;34m=\u001b[0m \u001b[0mnp\u001b[0m\u001b[0;34m.\u001b[0m\u001b[0madd\u001b[0m\u001b[0;34m.\u001b[0m\u001b[0mreduce\u001b[0m\u001b[0;34m(\u001b[0m\u001b[0mdata_thorium\u001b[0m\u001b[0;34m,\u001b[0m \u001b[0maxis\u001b[0m \u001b[0;34m=\u001b[0m \u001b[0;36m1\u001b[0m\u001b[0;34m)\u001b[0m\u001b[0;34m\u001b[0m\u001b[0;34m\u001b[0m\u001b[0m\n",
      "\u001b[0;31mFileNotFoundError\u001b[0m: [Errno 2] No such file or directory: '/Users/r03si/Desktop/E11-Labwork/data/Thorium_2021-09-03_D3S.csv'"
     ]
    }
   ],
   "source": [
    "file_thorium = open(\"/Users/r03si/Desktop/E11-Labwork/data/Thorium_2021-09-03_D3S.csv\")\n",
    "file_unknown = open(\"/Users/r03si/Desktop/E11-Labwork/data/Unknown_2021-09-03_D3S.csv\")\n",
    "data_thorium = np.loadtxt(file_thorium, delimiter=\",\")[:68,:]\n",
    "data_unknown = np.loadtxt(file_unknown, delimiter=\",\")[:68,:] #There was some issue with capturing data after the 68th row.\n",
    "reduced_thorium = np.add.reduce(data_thorium, axis = 1)\n",
    "reduced_unknown = np.add.reduce(data_unknown, axis=1)\n",
    "print(data_unknown.shape)\n",
    "print(data_thorium.shape)"
   ]
  },
  {
   "cell_type": "code",
   "execution_count": 110,
   "id": "f32a31d5",
   "metadata": {},
   "outputs": [
    {
     "data": {
      "text/plain": [
       "array([21., 17., 18., 20., 29., 20., 18., 25., 21., 13., 24., 29., 13.,\n",
       "       26., 20., 25., 22., 26., 20., 28., 20., 29., 15., 22., 14., 20.,\n",
       "       22., 25., 12., 21., 32., 27., 20., 13., 20., 19., 13., 27., 17.,\n",
       "       28., 20., 20., 18., 22., 20., 28., 20., 23., 17., 26., 18., 23.,\n",
       "       18., 19., 25., 23., 20., 12., 23., 21., 19., 24., 22., 19., 18.,\n",
       "       17., 22., 15., 28., 17., 17., 19., 23., 18., 14., 16., 26., 24.,\n",
       "       25., 18., 21., 12., 13., 18., 22., 20., 14., 22., 15., 15., 20.,\n",
       "       22., 21., 19., 22., 22., 18., 20., 24., 24., 31., 22., 11., 24.,\n",
       "       22., 25., 24., 16., 23., 25., 22., 19., 19., 22., 20., 20., 15.,\n",
       "       26., 16., 19., 17., 21., 22., 29., 17., 20., 29., 17., 25., 13.,\n",
       "       21., 21., 23., 19., 17., 22., 22., 26., 26., 21., 20., 12., 17.,\n",
       "       18., 12., 20., 23., 19., 20., 17., 26., 15., 12., 13., 16., 22.,\n",
       "       17., 27., 25., 15., 15., 20., 28., 22.,  9., 18., 24., 13., 18.,\n",
       "       18., 22., 16., 20., 25., 19., 21., 28., 23., 21., 19., 26., 18.,\n",
       "       14., 19., 18., 18., 32., 14., 21., 29., 34., 19., 20., 23., 18.,\n",
       "       26., 21., 28., 16., 27., 19., 28., 13., 22., 20., 24., 21., 18.,\n",
       "       19., 24., 21., 15., 15., 17., 27., 16., 22., 21., 23., 19., 25.,\n",
       "       20., 15., 19., 24., 22., 14., 26., 20., 15., 14., 14., 13., 18.,\n",
       "       14., 21., 14., 22., 20., 20., 17., 24., 17., 20., 21., 21., 27.,\n",
       "       27., 14., 18., 30., 21., 20., 23., 26., 17., 20., 23., 16., 24.,\n",
       "       23., 21., 20., 17., 19., 22., 25., 25., 26., 15., 25., 20., 24.,\n",
       "       28., 27., 18., 18., 21., 19., 27., 29., 21., 25., 22., 24., 32.,\n",
       "       18., 20., 22., 20., 26., 21., 26., 19., 19., 19., 19., 30., 20.,\n",
       "       24., 27., 16., 13., 19., 17., 18., 22., 28., 11., 27., 21., 15.,\n",
       "       18., 16., 24., 19., 23., 18., 21., 29., 22., 22., 21., 26., 25.,\n",
       "       15., 20., 26., 20., 20., 19., 19., 22., 21., 25., 22., 22., 23.,\n",
       "       30., 20., 25., 26., 22., 21., 20., 20., 25., 10., 29., 20., 20.,\n",
       "       19., 36., 17., 19., 25., 21., 24., 15., 19., 18., 19., 11., 19.,\n",
       "       23., 19., 18., 25., 25., 18., 18., 14., 26., 17., 17., 22., 16.,\n",
       "       21., 16., 14., 15., 28., 20., 19., 12., 19., 21., 26., 25., 21.,\n",
       "       17., 25., 19., 27., 13., 17., 16., 21., 22., 32., 16., 21., 22.,\n",
       "       26., 26., 20., 20., 18., 15., 25., 14., 12., 21., 15., 26., 13.,\n",
       "       24., 23., 23., 20., 18., 19., 15., 24., 23., 23., 18., 29., 19.,\n",
       "       23., 14., 20., 22., 20., 17., 13., 20., 20., 28., 25., 18., 21.,\n",
       "       20., 25., 18., 24., 17., 13., 27., 17., 11., 20., 19., 22., 21.,\n",
       "       29., 25., 17., 23., 14., 25., 22., 23., 23., 15., 18., 21., 19.,\n",
       "       21., 14., 25., 28., 22., 23., 31., 21., 18., 20., 23., 29., 26.,\n",
       "       20., 25., 19., 19., 21., 15., 22., 13., 21., 18., 22., 17., 14.,\n",
       "       28., 17., 19., 22., 12., 27., 16., 18., 20., 20., 22., 22., 16.,\n",
       "       30., 22., 23., 25., 27., 17., 17., 23., 23., 22., 21., 40., 22.,\n",
       "       19., 15., 22., 18., 21., 25., 18., 15., 22., 25., 18., 20., 17.,\n",
       "       19., 23., 21., 17., 22., 20., 14., 25., 23., 17., 19., 20., 17.,\n",
       "       16., 30., 14., 18., 24., 20., 19., 27., 21., 21., 21., 16., 19.,\n",
       "       19., 18., 29., 18., 22., 36., 18., 24., 17., 24., 20., 25., 23.,\n",
       "       19., 22., 19., 19., 12., 16., 19., 16., 26., 15., 22., 17., 18.,\n",
       "       14., 20., 14., 16., 13., 22., 20., 19., 16., 20., 24., 24., 18.,\n",
       "       19., 18., 22., 27., 18., 26., 22., 19., 23., 23., 21., 18., 21.,\n",
       "       19., 16., 23., 15., 21., 18., 31., 16., 19., 22., 25., 16., 15.,\n",
       "       23., 19., 15., 22., 27., 21., 24., 36., 16., 24., 25., 18., 21.,\n",
       "       23., 24., 29., 26., 18., 10., 26., 22., 15., 17., 23., 22., 29.,\n",
       "       15., 30., 24., 22., 28., 22., 22., 18., 22., 18., 22., 23., 17.,\n",
       "       27., 15., 26., 16., 23., 20., 28., 19., 16., 30., 10., 31., 20.,\n",
       "       22., 21., 25., 17., 30., 18., 31., 19., 15., 27., 22., 20., 32.,\n",
       "       17., 16., 18., 15., 24., 27., 29., 29., 19., 20., 18., 11., 25.,\n",
       "       27., 21., 21., 21., 22., 23., 22., 24., 19., 21., 19., 20., 15.,\n",
       "       18., 25., 29., 23., 28., 21., 22., 17., 26., 17., 17., 25., 22.,\n",
       "       21., 27., 21., 23., 13., 26., 19., 22., 22., 16., 24., 22., 20.,\n",
       "       21., 23., 17., 26., 16., 24., 28., 17., 20., 21., 16., 24., 25.,\n",
       "       26., 18., 22., 17., 14., 14., 22., 31., 23., 17., 25., 25., 24.,\n",
       "       26., 17., 19., 18., 24., 24., 29., 27., 23., 26., 11., 24., 24.,\n",
       "       17., 21., 20., 24., 15., 22., 21., 23., 24., 17., 31., 22., 22.,\n",
       "       15., 22., 20., 17., 14., 16., 19., 25., 27., 20.,  9., 19., 17.,\n",
       "       22., 23., 26., 22., 25., 17., 19., 24., 18., 21., 15., 31., 17.,\n",
       "       20., 21., 23., 19., 29., 18., 22., 21., 24., 25., 20., 21., 21.,\n",
       "       18., 30., 14., 19., 12., 21., 16., 20., 20., 19., 15., 20., 16.,\n",
       "       14., 21., 11., 15., 17., 21., 16., 16., 25., 29., 21., 16., 21.,\n",
       "       20., 22., 21., 16., 21., 18., 19., 21., 22., 18., 12., 23., 20.,\n",
       "       23., 13., 21., 28., 27., 24., 16., 23., 24., 25., 29., 29., 18.,\n",
       "       21., 25., 15., 26., 12., 24., 23., 18., 21., 15., 21., 34., 23.,\n",
       "       20., 28., 26., 26., 20., 22., 18., 19., 23., 17., 18., 17., 20.,\n",
       "       21., 18., 20., 20., 31., 15., 27., 21., 24., 23., 19., 22., 14.,\n",
       "       28., 23., 16., 29., 27., 19., 22., 22., 18., 24., 20., 25., 25.,\n",
       "       18.])"
      ]
     },
     "execution_count": 110,
     "metadata": {},
     "output_type": "execute_result"
    }
   ],
   "source": [
    "reduced = np.add.reduce(arr, axis = 1)\n",
    "reduced"
   ]
  },
  {
   "cell_type": "code",
   "execution_count": 111,
   "id": "259e0fde",
   "metadata": {},
   "outputs": [
    {
     "name": "stdout",
     "output_type": "stream",
     "text": [
      "[920. 909. 917. 906. 861. 919. 969. 939. 919. 983. 921. 911. 880. 860.\n",
      " 898. 923. 868. 902. 876. 901. 876. 899. 881. 892. 905. 934. 917. 911.\n",
      " 920. 921. 928. 922. 950. 922. 917. 909. 898. 878. 866. 874. 885. 882.\n",
      " 905. 909. 905. 949. 918. 914. 929. 895. 931. 865. 908. 909. 931. 882.\n",
      " 909. 894. 939. 889. 911. 932. 972. 931. 916. 902. 946. 883.]\n",
      "(68,)\n"
     ]
    }
   ],
   "source": [
    "print(reduced_unknown)\n",
    "print(reduced_unknown.shape)"
   ]
  },
  {
   "cell_type": "code",
   "execution_count": 112,
   "id": "b2eb7693",
   "metadata": {},
   "outputs": [
    {
     "name": "stdout",
     "output_type": "stream",
     "text": [
      "[1530. 1577. 1496. 1556. 1602. 1538. 1491. 1571. 1587. 1553. 1556. 1531.\n",
      " 1565. 1522. 1631. 1576. 1484. 1539. 1550. 1513. 1593. 1566. 1621. 1535.\n",
      " 1565. 1543. 1590. 1505. 1575. 1563. 1556. 1571. 1547. 1509. 1517. 1536.\n",
      " 1551. 1537. 1565. 1529. 1562. 1601. 1499. 1550. 1589. 1533. 1518. 1514.\n",
      " 1570. 1596. 1497. 1543. 1561. 1556. 1534. 1549. 1504. 1566. 1511. 1574.\n",
      " 1587. 1618. 1529. 1555. 1562. 1575. 1596. 1573.]\n",
      "(68,)\n"
     ]
    }
   ],
   "source": [
    "print(reduced_thorium)\n",
    "print(reduced_thorium.shape)"
   ]
  },
  {
   "cell_type": "code",
   "execution_count": 113,
   "id": "ed26a2b9",
   "metadata": {},
   "outputs": [
    {
     "data": {
      "image/png": "[encoded data removed]",
      "text/plain": [
       "<Figure size 432x288 with 1 Axes>"
      ]
     },
     "metadata": {
      "needs_background": "light"
     },
     "output_type": "display_data"
    }
   ],
   "source": [
    "plt.hist(reduced_unknown)\n",
    "plt.ylabel(\"Frequency\")\n",
    "plt.xlabel(\"Counts Per 5 Seconds\")\n",
    "plt.title(\"Unknown Radioactivity\")\n",
    "plt.show()"
   ]
  },
  {
   "cell_type": "code",
   "execution_count": 114,
   "id": "5ecc1366",
   "metadata": {},
   "outputs": [
    {
     "data": {
      "image/png": "[encoded data removed]",
      "text/plain": [
       "<Figure size 432x288 with 1 Axes>"
      ]
     },
     "metadata": {
      "needs_background": "light"
     },
     "output_type": "display_data"
    }
   ],
   "source": [
    "plt.hist(reduced_thorium)\n",
    "plt.ylabel(\"Frequency\")\n",
    "plt.xlabel(\"Counts Per 5 Seconds\")\n",
    "plt.title(\"Thorium Radioactivity\")\n",
    "plt.show()"
   ]
  },
  {
   "cell_type": "code",
   "execution_count": 115,
   "id": "2d416b27",
   "metadata": {},
   "outputs": [
    {
     "name": "stdout",
     "output_type": "stream",
     "text": [
      "Mean: 1552.4117647058824\n",
      "STD: 32.60288479392296\n"
     ]
    }
   ],
   "source": [
    "mean1 = np.mean(reduced_thorium)\n",
    "std1 = np.std(reduced_thorium)\n",
    "print(\"Mean:\", np.mean(reduced_thorium))\n",
    "print(\"STD:\", np.std(reduced_thorium))"
   ]
  },
  {
   "cell_type": "code",
   "execution_count": 116,
   "id": "5fa48ae1",
   "metadata": {},
   "outputs": [
    {
     "name": "stdout",
     "output_type": "stream",
     "text": [
      "Mean: 909.4558823529412\n",
      "STD: 25.728465480594817\n"
     ]
    }
   ],
   "source": [
    "mean2 = np.mean(reduced_unknown)\n",
    "std2 = np.std(reduced_unknown)\n",
    "print(\"Mean:\", np.mean(reduced_unknown))\n",
    "print(\"STD:\", np.std(reduced_unknown))"
   ]
  },
  {
   "cell_type": "code",
   "execution_count": 117,
   "id": "9b3f215f",
   "metadata": {},
   "outputs": [
    {
     "name": "stdout",
     "output_type": "stream",
     "text": [
      "The relative uncertainty between the two is Thorium: 0.021001441457189584 vs. Unknown: 0.028289954444002514\n"
     ]
    }
   ],
   "source": [
    "print(f\"The relative uncertainty between the two is Thorium: {std1/mean1} vs. Unknown: {std2/mean2}\")"
   ]
  },
  {
   "cell_type": "markdown",
   "id": "44f2abf9",
   "metadata": {},
   "source": [
    "The specific activity for a thorium rock with a mass of .1 kg would be around 12237 Bq.\n",
    "Using the equation CPS = eA => (1552 * 5) = e * 12237 => e = .634 => 63.4% EFFICIENT"
   ]
  },
  {
   "cell_type": "code",
   "execution_count": 118,
   "id": "d8769d61",
   "metadata": {},
   "outputs": [
    {
     "name": "stdout",
     "output_type": "stream",
     "text": [
      "0.005750226438525503 = uncertainty of the efficiency of the detector\n"
     ]
    }
   ],
   "source": [
    "# (std_f/f)^2 = (std_a/A)^2 + (std_b/B)^2\n",
    "# => std_f = f * sqrt((std_a/A)^2 + (std_b/B)^2) Where f = uncertainty, a = CPS, b = Determined Activity\n",
    "\n",
    "uncertainty_efficiency = 0.634 * math.sqrt((std1/(mean1 * 5)**2 + (math.sqrt(12237)/12237)**2))\n",
    "print(uncertainty_efficiency, \"= uncertainty of the efficiency of the detector\")"
   ]
  },
  {
   "cell_type": "code",
   "execution_count": 119,
   "id": "81b212f0",
   "metadata": {},
   "outputs": [
    {
     "name": "stdout",
     "output_type": "stream",
     "text": [
      "Activity of Unknown Source: 8751 Counts Per Second\n"
     ]
    }
   ],
   "source": [
    "# (std_A/A)^2 = (std_e/e)^2 + (std_CPS/CPS)^2\n",
    "# => A = 1 / (std_e/e)^2 + (std_CPS/CPS)^2\n",
    "print(\"Activity of Unknown Source:\", round(1 / ((uncertainty_efficiency/0.634)**2 + (std2/(mean2*5))**2)), \"Counts Per Second\")"
   ]
  },
  {
   "cell_type": "markdown",
   "id": "9dc897eb",
   "metadata": {},
   "source": [
    "If all 8 lab groups were to combine their data, the uncertainties for all the quantities would decrease, as there is more data to find a more central value."
   ]
  },
  {
   "cell_type": "code",
   "execution_count": 4,
   "id": "a516e8f3",
   "metadata": {},
   "outputs": [],
   "source": [
    "data = pd.read_csv(\"/Users/srajadnya/Desktop/engin11/E11-Labwork/1630711461.csv\")"
   ]
  },
  {
   "cell_type": "code",
   "execution_count": 5,
   "id": "01a1c646",
   "metadata": {},
   "outputs": [
    {
     "data": {
      "text/html": [
       "<div>\n",
       "<style scoped>\n",
       "    .dataframe tbody tr th:only-of-type {\n",
       "        vertical-align: middle;\n",
       "    }\n",
       "\n",
       "    .dataframe tbody tr th {\n",
       "        vertical-align: top;\n",
       "    }\n",
       "\n",
       "    .dataframe thead th {\n",
       "        text-align: right;\n",
       "    }\n",
       "</style>\n",
       "<table border=\"1\" class=\"dataframe\">\n",
       "  <thead>\n",
       "    <tr style=\"text-align: right;\">\n",
       "      <th></th>\n",
       "      <th>Temperature</th>\n",
       "      <th>Pressure</th>\n",
       "      <th>Relative_Humidity</th>\n",
       "      <th>Air_Quality_PM1</th>\n",
       "      <th>Air_Quality_PM2.5</th>\n",
       "      <th>Air_Quality_PM10</th>\n",
       "      <th>Timestamp</th>\n",
       "    </tr>\n",
       "  </thead>\n",
       "  <tbody>\n",
       "    <tr>\n",
       "      <th>0</th>\n",
       "      <td>81.845</td>\n",
       "      <td>1002.836</td>\n",
       "      <td>33.283</td>\n",
       "      <td>1</td>\n",
       "      <td>2</td>\n",
       "      <td>3</td>\n",
       "      <td>1</td>\n",
       "    </tr>\n",
       "    <tr>\n",
       "      <th>1</th>\n",
       "      <td>81.817</td>\n",
       "      <td>1002.860</td>\n",
       "      <td>33.222</td>\n",
       "      <td>1</td>\n",
       "      <td>2</td>\n",
       "      <td>3</td>\n",
       "      <td>2</td>\n",
       "    </tr>\n",
       "    <tr>\n",
       "      <th>2</th>\n",
       "      <td>81.808</td>\n",
       "      <td>1002.843</td>\n",
       "      <td>33.296</td>\n",
       "      <td>1</td>\n",
       "      <td>2</td>\n",
       "      <td>3</td>\n",
       "      <td>3</td>\n",
       "    </tr>\n",
       "    <tr>\n",
       "      <th>3</th>\n",
       "      <td>81.790</td>\n",
       "      <td>1002.856</td>\n",
       "      <td>33.068</td>\n",
       "      <td>1</td>\n",
       "      <td>2</td>\n",
       "      <td>3</td>\n",
       "      <td>4</td>\n",
       "    </tr>\n",
       "    <tr>\n",
       "      <th>4</th>\n",
       "      <td>81.753</td>\n",
       "      <td>1002.858</td>\n",
       "      <td>33.149</td>\n",
       "      <td>1</td>\n",
       "      <td>2</td>\n",
       "      <td>3</td>\n",
       "      <td>5</td>\n",
       "    </tr>\n",
       "    <tr>\n",
       "      <th>...</th>\n",
       "      <td>...</td>\n",
       "      <td>...</td>\n",
       "      <td>...</td>\n",
       "      <td>...</td>\n",
       "      <td>...</td>\n",
       "      <td>...</td>\n",
       "      <td>...</td>\n",
       "    </tr>\n",
       "    <tr>\n",
       "      <th>262</th>\n",
       "      <td>81.176</td>\n",
       "      <td>1002.844</td>\n",
       "      <td>33.433</td>\n",
       "      <td>1</td>\n",
       "      <td>2</td>\n",
       "      <td>3</td>\n",
       "      <td>296</td>\n",
       "    </tr>\n",
       "    <tr>\n",
       "      <th>263</th>\n",
       "      <td>81.185</td>\n",
       "      <td>1002.854</td>\n",
       "      <td>33.611</td>\n",
       "      <td>1</td>\n",
       "      <td>2</td>\n",
       "      <td>3</td>\n",
       "      <td>297</td>\n",
       "    </tr>\n",
       "    <tr>\n",
       "      <th>264</th>\n",
       "      <td>81.176</td>\n",
       "      <td>1002.842</td>\n",
       "      <td>33.556</td>\n",
       "      <td>1</td>\n",
       "      <td>2</td>\n",
       "      <td>3</td>\n",
       "      <td>298</td>\n",
       "    </tr>\n",
       "    <tr>\n",
       "      <th>265</th>\n",
       "      <td>81.185</td>\n",
       "      <td>1002.855</td>\n",
       "      <td>33.537</td>\n",
       "      <td>1</td>\n",
       "      <td>2</td>\n",
       "      <td>3</td>\n",
       "      <td>299</td>\n",
       "    </tr>\n",
       "    <tr>\n",
       "      <th>266</th>\n",
       "      <td>81.203</td>\n",
       "      <td>1002.819</td>\n",
       "      <td>33.500</td>\n",
       "      <td>1</td>\n",
       "      <td>2</td>\n",
       "      <td>3</td>\n",
       "      <td>300</td>\n",
       "    </tr>\n",
       "  </tbody>\n",
       "</table>\n",
       "<p>267 rows × 7 columns</p>\n",
       "</div>"
      ],
      "text/plain": [
       "     Temperature   Pressure   Relative_Humidity   Air_Quality_PM1  \\\n",
       "0         81.845   1002.836              33.283                 1   \n",
       "1         81.817   1002.860              33.222                 1   \n",
       "2         81.808   1002.843              33.296                 1   \n",
       "3         81.790   1002.856              33.068                 1   \n",
       "4         81.753   1002.858              33.149                 1   \n",
       "..           ...        ...                 ...               ...   \n",
       "262       81.176   1002.844              33.433                 1   \n",
       "263       81.185   1002.854              33.611                 1   \n",
       "264       81.176   1002.842              33.556                 1   \n",
       "265       81.185   1002.855              33.537                 1   \n",
       "266       81.203   1002.819              33.500                 1   \n",
       "\n",
       "      Air_Quality_PM2.5   Air_Quality_PM10   Timestamp  \n",
       "0                     2                  3           1  \n",
       "1                     2                  3           2  \n",
       "2                     2                  3           3  \n",
       "3                     2                  3           4  \n",
       "4                     2                  3           5  \n",
       "..                  ...                ...         ...  \n",
       "262                   2                  3         296  \n",
       "263                   2                  3         297  \n",
       "264                   2                  3         298  \n",
       "265                   2                  3         299  \n",
       "266                   2                  3         300  \n",
       "\n",
       "[267 rows x 7 columns]"
      ]
     },
     "execution_count": 5,
     "metadata": {},
     "output_type": "execute_result"
    }
   ],
   "source": [
    "data"
   ]
  },
  {
   "cell_type": "code",
   "execution_count": 9,
   "id": "ad67ef8e",
   "metadata": {},
   "outputs": [
    {
     "data": {
      "text/plain": [
       "0      81.845\n",
       "1      81.817\n",
       "2      81.808\n",
       "3      81.790\n",
       "4      81.753\n",
       "        ...  \n",
       "262    81.176\n",
       "263    81.185\n",
       "264    81.176\n",
       "265    81.185\n",
       "266    81.203\n",
       "Name: Temperature, Length: 267, dtype: float64"
      ]
     },
     "execution_count": 9,
     "metadata": {},
     "output_type": "execute_result"
    }
   ],
   "source": [
    "data[\"Temperature\"]"
   ]
  },
  {
   "cell_type": "code",
   "execution_count": null,
   "id": "053e7213",
   "metadata": {},
   "outputs": [],
   "source": []
  }
 ],
 "metadata": {
  "kernelspec": {
   "display_name": "Python 3",
   "language": "python",
   "name": "python3"
  },
  "language_info": {
   "codemirror_mode": {
    "name": "ipython",
    "version": 3
   },
   "file_extension": ".py",
   "mimetype": "text/x-python",
   "name": "python",
   "nbconvert_exporter": "python",
   "pygments_lexer": "ipython3",
   "version": "3.8.8"
  }
 },
 "nbformat": 4,
 "nbformat_minor": 5
}
