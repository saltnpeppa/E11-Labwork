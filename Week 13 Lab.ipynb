{
 "cells": [
  {
   "cell_type": "markdown",
   "id": "9750ef91",
   "metadata": {},
   "source": [
    "Sidhant Rajadnya - 11/29"
   ]
  },
  {
   "cell_type": "code",
   "execution_count": 90,
   "id": "c0a29396",
   "metadata": {},
   "outputs": [],
   "source": [
    "import numpy as np\n",
    "import pandas as pd\n",
    "import time\n",
    "import matplotlib\n",
    "%matplotlib inline\n",
    "import matplotlib.pyplot as plt\n",
    "import math\n",
    "from scipy.stats import binom\n",
    "from scipy.stats import poisson\n",
    "from scipy.stats import norm\n",
    "from IPython import display\n",
    "\n",
    "from scipy.stats import norm\n",
    "import statistics"
   ]
  },
  {
   "cell_type": "code",
   "execution_count": 91,
   "id": "a7e0fbd7",
   "metadata": {},
   "outputs": [],
   "source": [
    "data_0 = pd.read_csv(\"/Users/r03si/Desktop/E11-Labwork/Map-data-0.csv\")"
   ]
  },
  {
   "cell_type": "code",
   "execution_count": 92,
   "id": "5769a300",
   "metadata": {},
   "outputs": [
    {
     "data": {
      "image/png": "[encoded data removed]",
      "text/plain": [
       "<Figure size 432x288 with 1 Axes>"
      ]
     },
     "metadata": {
      "needs_background": "light"
     },
     "output_type": "display_data"
    }
   ],
   "source": [
    "plot = data_0.plot(x = \"Epoch time\", y = \"Radiation (cps)\", kind = \"hist\")"
   ]
  },
  {
   "cell_type": "code",
   "execution_count": 93,
   "id": "0c416a99",
   "metadata": {},
   "outputs": [],
   "source": [
    "data_1 = pd.read_csv(\"/Users/r03si/Desktop/E11-Labwork/Map-data-1.csv\")"
   ]
  },
  {
   "cell_type": "code",
   "execution_count": 94,
   "id": "b1ee5240",
   "metadata": {},
   "outputs": [
    {
     "data": {
      "image/png": "[encoded data removed]",
      "text/plain": [
       "<Figure size 432x288 with 1 Axes>"
      ]
     },
     "metadata": {
      "needs_background": "light"
     },
     "output_type": "display_data"
    }
   ],
   "source": [
    "plot2 = data_1.plot(x = \"Epoch time\", y = \"Radiation (cps)\", kind = \"hist\")"
   ]
  },
  {
   "cell_type": "code",
   "execution_count": 95,
   "id": "5c07ce00",
   "metadata": {},
   "outputs": [
    {
     "name": "stdout",
     "output_type": "stream",
     "text": [
      "The mean of the first dataset is 31.565 and the std of the first dataset is 4.783\n"
     ]
    }
   ],
   "source": [
    "mean_0 = np.mean(data_0[\"Radiation (cps)\"])\n",
    "std_0 = np.std(data_0[\"Radiation (cps)\"])\n",
    "print(f\"The mean of the first dataset is {round(mean_0, 3)} and the std of the first dataset is {round(std_0, 3)}\")"
   ]
  },
  {
   "cell_type": "code",
   "execution_count": 96,
   "id": "d593fa83",
   "metadata": {},
   "outputs": [
    {
     "name": "stdout",
     "output_type": "stream",
     "text": [
      "The mean of the second dataset is 33.64 and the std of the second dataset is 4.619\n"
     ]
    }
   ],
   "source": [
    "mean_1 = np.mean(data_1[\"Radiation (cps)\"])\n",
    "std_1 = np.std(data_1[\"Radiation (cps)\"])\n",
    "print(f\"The mean of the second dataset is {round(mean_1, 3)} and the std of the second dataset is {round(std_1, 3)}\")"
   ]
  },
  {
   "cell_type": "code",
   "execution_count": 97,
   "id": "198c50ba",
   "metadata": {},
   "outputs": [
    {
     "name": "stdout",
     "output_type": "stream",
     "text": [
      "The variation of the first dataset, using only counting statistics, is 5.618 and its difference with the experimental std is -0.835\n",
      "The variation of the second dataset, using only counting statistics, is 5.8 and its difference with the experimental std is -1.181\n",
      "We observe that the counting and experimental std have different values, and are proportionally off by amounts around 20%\n"
     ]
    }
   ],
   "source": [
    "counting_0 = math.sqrt(mean_0)\n",
    "print(f\"The variation of the first dataset, using only counting statistics, is {round(counting_0, 3)} and its difference with the experimental std is {round(std_0 - counting_0, 3)}\")\n",
    "\n",
    "counting_1 = math.sqrt(mean_1)\n",
    "print(f\"The variation of the second dataset, using only counting statistics, is {round(counting_1, 3)} and its difference with the experimental std is {round(std_1 - counting_1, 3)}\")\n",
    "\n",
    "print(\"We observe that the counting and experimental std have different values, and are proportionally off by amounts around 20%\")"
   ]
  },
  {
   "cell_type": "code",
   "execution_count": 98,
   "id": "32a6e32f",
   "metadata": {},
   "outputs": [
    {
     "name": "stdout",
     "output_type": "stream",
     "text": [
      "0.9586070334341469\n",
      "0.9272258607486379\n",
      "The values 0.9586070334341469 and 0.9272258607486379 would be the uncertainties of our measured standard deviations\n"
     ]
    }
   ],
   "source": [
    "mathematical_uncertainty_0 = std_0/math.sqrt(2 * math.sqrt(len(data_0[\"Radiation (cps)\"])))\n",
    "mathematical_uncertainty_1 = std_1/math.sqrt(2 * math.sqrt(len(data_1[\"Radiation (cps)\"])))\n",
    "\n",
    "print(mathematical_uncertainty_0)\n",
    "print(mathematical_uncertainty_1)\n",
    "print(f\"The values {mathematical_uncertainty_0} and {mathematical_uncertainty_1} would be the uncertainties of our measured standard deviations\")"
   ]
  },
  {
   "cell_type": "markdown",
   "id": "46483df6",
   "metadata": {},
   "source": [
    "There is more variation from using counting statistics than variation from the experimental data. From this we observe that the sources of radiation contributing to our data are inherently high variation sources, which is why it is important to take multiple readings of data and aggregate it (find a mean, etc.)."
   ]
  }
 ],
 "metadata": {
  "kernelspec": {
   "display_name": "Python 3",
   "language": "python",
   "name": "python3"
  },
  "language_info": {
   "codemirror_mode": {
    "name": "ipython",
    "version": 3
   },
   "file_extension": ".py",
   "mimetype": "text/x-python",
   "name": "python",
   "nbconvert_exporter": "python",
   "pygments_lexer": "ipython3",
   "version": "3.8.8"
  }
 },
 "nbformat": 4,
 "nbformat_minor": 5
}
