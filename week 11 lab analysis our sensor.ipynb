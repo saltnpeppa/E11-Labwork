{
 "cells": [
  {
   "cell_type": "code",
   "execution_count": 127,
   "id": "45e75c66",
   "metadata": {},
   "outputs": [],
   "source": [
    "import numpy as np\n",
    "import pandas as pd\n",
    "import time\n",
    "import matplotlib\n",
    "%matplotlib inline\n",
    "import matplotlib.pyplot as plt\n",
    "import math\n",
    "from scipy.stats import binom\n",
    "from scipy.stats import poisson\n",
    "from scipy.stats import norm\n",
    "from IPython import display\n",
    "import csv\n",
    "from scipy.stats import norm\n",
    "import statistics"
   ]
  },
  {
   "cell_type": "code",
   "execution_count": 130,
   "id": "e35b0113",
   "metadata": {},
   "outputs": [
    {
     "data": {
      "text/plain": [
       "['Counts', ' Timestamp']"
      ]
     },
     "execution_count": 130,
     "metadata": {},
     "output_type": "execute_result"
    }
   ],
   "source": [
    "#data_our_thorium = pd.read_csv(\"/Users/matthewfeizbakhsh/Documents/GitHub/E11-Labwork/Thorium_Our_Sensor_Inside_1630726705.0.csv\")\n",
    "#data_our_unknown = pd.read_csv(\"/Users/matthewfeizbakhsh/Documents/GitHub/E11-Labwork/Unknown_Our_Sensor_Inside_1630727652.0.csv\")\n",
    "\n",
    "#test = pd.read_csv(\"/Users/matthewfeizbakhsh/Documents/GitHub/E11-Labwork/Unknown_Our_Sensor_Inside_1630727652.0.csv\")\n",
    "myfile = open(\"/Users/matthewfeizbakhsh/Documents/GitHub/E11-Labwork/Unknown_Our_Sensor_Inside_1630727652.0.csv\")\n",
    "csvreader = csv.reader(myfile)\n",
    "header = []\n",
    "header = next(csvreader)\n",
    "header"
   ]
  },
  {
   "cell_type": "code",
   "execution_count": 131,
   "id": "8dc4402d",
   "metadata": {},
   "outputs": [
    {
     "data": {
      "text/plain": [
       "[['2', ' 5'],\n",
       " ['3', ' 10'],\n",
       " ['1', ' 15'],\n",
       " ['2', ' 20'],\n",
       " ['4', ' 25'],\n",
       " ['0', ' 30'],\n",
       " ['2', ' 35'],\n",
       " ['0', ' 40'],\n",
       " ['0', ' 45'],\n",
       " ['2', ' 50'],\n",
       " ['1', ' 55'],\n",
       " ['1', ' 60'],\n",
       " ['2', ' 65'],\n",
       " ['1', ' 70'],\n",
       " ['2', ' 75'],\n",
       " ['0', ' 80'],\n",
       " ['1', ' 85'],\n",
       " ['3', ' 90'],\n",
       " ['2', ' 95'],\n",
       " ['2', ' 100'],\n",
       " ['3', ' 105'],\n",
       " ['1', ' 110'],\n",
       " ['2', ' 115'],\n",
       " ['2', ' 120'],\n",
       " ['1', ' 125'],\n",
       " ['2', ' 130'],\n",
       " ['1', ' 135'],\n",
       " ['3', ' 140'],\n",
       " ['2', ' 145'],\n",
       " ['2', ' 150'],\n",
       " ['2', ' 155'],\n",
       " ['3', ' 160'],\n",
       " ['4', ' 165'],\n",
       " ['2', ' 170'],\n",
       " ['3', ' 175'],\n",
       " ['0', ' 180'],\n",
       " ['3', ' 185'],\n",
       " ['1', ' 190'],\n",
       " ['1', ' 195'],\n",
       " ['2', ' 200'],\n",
       " ['2', ' 205'],\n",
       " ['3', ' 210'],\n",
       " ['4', ' 215'],\n",
       " ['5', ' 220'],\n",
       " ['3', ' 225'],\n",
       " ['3', ' 230'],\n",
       " ['1', ' 235'],\n",
       " ['2', ' 240'],\n",
       " ['2', ' 245'],\n",
       " ['1', ' 250'],\n",
       " ['1', ' 255'],\n",
       " ['2', ' 260'],\n",
       " ['0', ' 265'],\n",
       " ['0', ' 270'],\n",
       " ['0', ' 275'],\n",
       " ['1', ' 280'],\n",
       " ['1', ' 285'],\n",
       " ['0', ' 290'],\n",
       " ['2', ' 295'],\n",
       " ['3', ' 300']]"
      ]
     },
     "execution_count": 131,
     "metadata": {},
     "output_type": "execute_result"
    }
   ],
   "source": [
    "row_uk = []\n",
    "for row in csvreader:\n",
    "    row_uk.append(row)\n",
    "row_uk"
   ]
  },
  {
   "cell_type": "code",
   "execution_count": 135,
   "id": "dfc1759a",
   "metadata": {},
   "outputs": [
    {
     "data": {
      "text/plain": [
       "['Counts', ' Timestamp']"
      ]
     },
     "execution_count": 135,
     "metadata": {},
     "output_type": "execute_result"
    }
   ],
   "source": [
    "myfile2 = open(\"/Users/matthewfeizbakhsh/Documents/GitHub/E11-Labwork/Thorium_Our_Sensor_Inside_1630726705.0.csv\")\n",
    "csvreader2 = csv.reader(myfile2)\n",
    "header2 = []\n",
    "header2 = next(csvreader2)\n",
    "header2"
   ]
  },
  {
   "cell_type": "code",
   "execution_count": 136,
   "id": "53abca38",
   "metadata": {},
   "outputs": [
    {
     "data": {
      "text/plain": [
       "[['1', ' 5'],\n",
       " ['4', ' 10'],\n",
       " ['2', ' 15'],\n",
       " ['3', ' 20'],\n",
       " ['2', ' 25'],\n",
       " ['1', ' 30'],\n",
       " ['5', ' 35'],\n",
       " ['1', ' 40'],\n",
       " ['5', ' 45'],\n",
       " ['3', ' 50'],\n",
       " ['2', ' 55'],\n",
       " ['5', ' 60'],\n",
       " ['3', ' 65'],\n",
       " ['3', ' 70'],\n",
       " ['3', ' 75'],\n",
       " ['1', ' 80'],\n",
       " ['5', ' 85'],\n",
       " ['2', ' 90'],\n",
       " ['0', ' 95'],\n",
       " ['5', ' 100'],\n",
       " ['2', ' 105'],\n",
       " ['0', ' 110'],\n",
       " ['3', ' 115'],\n",
       " ['4', ' 120'],\n",
       " ['3', ' 125'],\n",
       " ['3', ' 130'],\n",
       " ['2', ' 135'],\n",
       " ['1', ' 140'],\n",
       " ['0', ' 145'],\n",
       " ['4', ' 150'],\n",
       " ['2', ' 155'],\n",
       " ['2', ' 160'],\n",
       " ['3', ' 165'],\n",
       " ['1', ' 170'],\n",
       " ['1', ' 175'],\n",
       " ['3', ' 180'],\n",
       " ['1', ' 185'],\n",
       " ['5', ' 190'],\n",
       " ['0', ' 195'],\n",
       " ['2', ' 200'],\n",
       " ['2', ' 205'],\n",
       " ['3', ' 210'],\n",
       " ['7', ' 215'],\n",
       " ['4', ' 220'],\n",
       " ['2', ' 225'],\n",
       " ['3', ' 230'],\n",
       " ['0', ' 235'],\n",
       " ['5', ' 240'],\n",
       " ['1', ' 245'],\n",
       " ['5', ' 250'],\n",
       " ['3', ' 255'],\n",
       " ['3', ' 260'],\n",
       " ['4', ' 265'],\n",
       " ['6', ' 270'],\n",
       " ['7', ' 275'],\n",
       " ['2', ' 280'],\n",
       " ['3', ' 285'],\n",
       " ['6', ' 290'],\n",
       " ['2', ' 295'],\n",
       " ['5', ' 300']]"
      ]
     },
     "execution_count": 136,
     "metadata": {},
     "output_type": "execute_result"
    }
   ],
   "source": [
    "row_th = []\n",
    "for row in csvreader2:\n",
    "    row_th.append(row)\n",
    "row_th"
   ]
  },
  {
   "cell_type": "code",
   "execution_count": 117,
   "id": "b4d7a9ea",
   "metadata": {},
   "outputs": [],
   "source": [
    "\n",
    "#counts_thorium = data_our_thorium.loc[:, \"Counts\"]\n",
    "#timestamp_thorium = data_our_thorium.loc[:, \" Timestamp\"]\n",
    "\n",
    "#counts_unknown = data_our_unknown.loc[:, \"Counts\"]\n",
    "#timestamp_unnown = data_our_unknown.loc[:, \" Timestamp\"]"
   ]
  },
  {
   "cell_type": "code",
   "execution_count": 138,
   "id": "1e1c56ce",
   "metadata": {},
   "outputs": [
    {
     "data": {
      "image/png": "[encoded data removed]",
      "text/plain": [
       "<Figure size 432x288 with 1 Axes>"
      ]
     },
     "metadata": {
      "needs_background": "light"
     },
     "output_type": "display_data"
    }
   ],
   "source": [
    "plt.hist(row_uk)\n",
    "plt.ylabel(\"Frequency\")\n",
    "plt.xlabel(\"Counts Per 5 Seconds\")\n",
    "plt.title(\"Unknown Radioactivity\")\n",
    "plt.show()"
   ]
  },
  {
   "cell_type": "code",
   "execution_count": 139,
   "id": "12c2d601",
   "metadata": {},
   "outputs": [
    {
     "data": {
      "image/png": "[encoded data removed]",
      "text/plain": [
       "<Figure size 432x288 with 1 Axes>"
      ]
     },
     "metadata": {
      "needs_background": "light"
     },
     "output_type": "display_data"
    }
   ],
   "source": [
    "plt.hist(row_th)\n",
    "plt.ylabel(\"Frequency\")\n",
    "plt.xlabel(\"Counts Per 5 Seconds\")\n",
    "plt.title(\"Thorium Radioactivity\")\n",
    "plt.show()"
   ]
  },
  {
   "cell_type": "code",
   "execution_count": 147,
   "id": "c3235319",
   "metadata": {},
   "outputs": [
    {
     "name": "stdout",
     "output_type": "stream",
     "text": [
      "Mean: 1.7833333333333334\n",
      "STD: 1.1560228755906559\n"
     ]
    }
   ],
   "source": [
    "arr_uk = []\n",
    "for row in row_uk:\n",
    "    arr_uk.append(int(row[0]))\n",
    "mean1 = np.mean(arr_uk)\n",
    "std1 = np.std(arr_uk)\n",
    "print(\"Mean:\",mean1)\n",
    "print(\"STD:\", std1)"
   ]
  },
  {
   "cell_type": "code",
   "execution_count": 148,
   "id": "a398b4b8",
   "metadata": {},
   "outputs": [
    {
     "name": "stdout",
     "output_type": "stream",
     "text": [
      "Mean: 2.85\n",
      "STD: 1.7495237447183543\n"
     ]
    }
   ],
   "source": [
    "arr_th = []\n",
    "for row in row_th:\n",
    "    arr_th.append(int(row[0]))\n",
    "mean2 = np.mean(arr_th)\n",
    "std2 = np.std(arr_th)\n",
    "print(\"Mean:\", mean2)\n",
    "print(\"STD:\", std2)"
   ]
  },
  {
   "cell_type": "code",
   "execution_count": 149,
   "id": "48eef301",
   "metadata": {},
   "outputs": [
    {
     "name": "stdout",
     "output_type": "stream",
     "text": [
      "The relative uncertainty between the two is Thorium: 0.6482371264994331 vs. Unknown: 0.6138679806029314\n"
     ]
    }
   ],
   "source": [
    "print(f\"The relative uncertainty between the two is Thorium: {std1/mean1} vs. Unknown: {std2/mean2}\")"
   ]
  },
  {
   "cell_type": "code",
   "execution_count": 150,
   "id": "8bb146d1",
   "metadata": {},
   "outputs": [
    {
     "name": "stdout",
     "output_type": "stream",
     "text": [
      "0.07666320434187056 = uncertainty of the efficiency of the detector\n"
     ]
    }
   ],
   "source": [
    "# (std_f/f)^2 = (std_a/A)^2 + (std_b/B)^2\n",
    "# => std_f = f * sqrt((std_a/A)^2 + (std_b/B)^2) Where f = uncertainty, a = CPS, b = Determined Activity\n",
    "\n",
    "uncertainty_efficiency = 0.634 * math.sqrt((std1/(mean1 * 5)**2 + (math.sqrt(12237)/12237)**2))\n",
    "print(uncertainty_efficiency, \"= uncertainty of the efficiency of the detector\")"
   ]
  },
  {
   "cell_type": "code",
   "execution_count": 151,
   "id": "b6d87c41",
   "metadata": {},
   "outputs": [
    {
     "name": "stdout",
     "output_type": "stream",
     "text": [
      "Activity of Unknown Source: 34 Counts Per Second\n"
     ]
    }
   ],
   "source": [
    "# (std_A/A)^2 = (std_e/e)^2 + (std_CPS/CPS)^2\n",
    "# => A = 1 / (std_e/e)^2 + (std_CPS/CPS)^2\n",
    "print(\"Activity of Unknown Source:\", round(1 / ((uncertainty_efficiency/0.634)**2 + (std2/(mean2*5))**2)), \"Counts Per Second\")\n",
    "\n"
   ]
  },
  {
   "cell_type": "code",
   "execution_count": null,
   "id": "fbb565b4",
   "metadata": {},
   "outputs": [],
   "source": []
  }
 ],
 "metadata": {
  "kernelspec": {
   "display_name": "Python 3",
   "language": "python",
   "name": "python3"
  },
  "language_info": {
   "codemirror_mode": {
    "name": "ipython",
    "version": 3
   },
   "file_extension": ".py",
   "mimetype": "text/x-python",
   "name": "python",
   "nbconvert_exporter": "python",
   "pygments_lexer": "ipython3",
   "version": "3.8.8"
  }
 },
 "nbformat": 4,
 "nbformat_minor": 5
}
